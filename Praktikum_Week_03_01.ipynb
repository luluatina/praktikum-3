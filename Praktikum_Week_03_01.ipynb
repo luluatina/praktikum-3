{
  "nbformat": 4,
  "nbformat_minor": 0,
  "metadata": {
    "colab": {
      "provenance": []
    },
    "kernelspec": {
      "name": "python3",
      "display_name": "Python 3"
    },
    "language_info": {
      "name": "python"
    }
  },
  "cells": [
    {
      "cell_type": "code",
      "source": [
        "!pip install wget"
      ],
      "metadata": {
        "colab": {
          "base_uri": "https://localhost:8080/"
        },
        "id": "3Dd7KfQ1cxc_",
        "outputId": "518ed598-0548-45e1-dbef-5eca83c3c9d2"
      },
      "execution_count": null,
      "outputs": [
        {
          "output_type": "stream",
          "name": "stdout",
          "text": [
            "Collecting wget\n",
            "  Downloading wget-3.2.zip (10 kB)\n",
            "  Preparing metadata (setup.py) ... \u001b[?25l\u001b[?25hdone\n",
            "Building wheels for collected packages: wget\n",
            "  Building wheel for wget (setup.py) ... \u001b[?25l\u001b[?25hdone\n",
            "  Created wheel for wget: filename=wget-3.2-py3-none-any.whl size=9656 sha256=c9c2909593367f03dc2bd814c20a1c782f245ccf6ae10a3fcb24c52c596bd9d8\n",
            "  Stored in directory: /root/.cache/pip/wheels/8b/f1/7f/5c94f0a7a505ca1c81cd1d9208ae2064675d97582078e6c769\n",
            "Successfully built wget\n",
            "Installing collected packages: wget\n",
            "Successfully installed wget-3.2\n"
          ]
        }
      ]
    },
    {
      "cell_type": "code",
      "source": [
        "from google.colab import drive\n",
        "drive.mount('/content/drive')"
      ],
      "metadata": {
        "id": "VMsGVdr5GmwW"
      },
      "execution_count": null,
      "outputs": []
    },
    {
      "cell_type": "code",
      "source": [
        "# Download Example file\n",
        "!mkdir -p /resources/data\n",
        "!wget -O /resources/data/biodatafile.txt https://s3-api.us-geo.objectstorage.softlayer.net/cf-courses-data/CognitiveClass/PY0101EN/labs/example1.txt"
      ],
      "metadata": {
        "colab": {
          "base_uri": "https://localhost:8080/"
        },
        "id": "e0ynbyj0d1m2",
        "outputId": "aa14e4f2-38db-4eb9-c8c8-4a4dadb5c9dd"
      },
      "execution_count": null,
      "outputs": [
        {
          "output_type": "stream",
          "name": "stdout",
          "text": [
            "--2024-09-09 00:32:43--  https://s3-api.us-geo.objectstorage.softlayer.net/cf-courses-data/CognitiveClass/PY0101EN/labs/example1.txt\n",
            "Resolving s3-api.us-geo.objectstorage.softlayer.net (s3-api.us-geo.objectstorage.softlayer.net)... 67.228.254.196\n",
            "Connecting to s3-api.us-geo.objectstorage.softlayer.net (s3-api.us-geo.objectstorage.softlayer.net)|67.228.254.196|:443... connected.\n",
            "HTTP request sent, awaiting response... 200 OK\n",
            "Length: 45 [text/plain]\n",
            "Saving to: ‘/resources/data/biodatafile.txt’\n",
            "\n",
            "\r          /resource   0%[                    ]       0  --.-KB/s               \r/resources/data/bio 100%[===================>]      45  --.-KB/s    in 0s      \n",
            "\n",
            "2024-09-09 00:32:43 (23.1 MB/s) - ‘/resources/data/biodatafile.txt’ saved [45/45]\n",
            "\n"
          ]
        }
      ]
    },
    {
      "cell_type": "code",
      "source": [
        "# Read the biodatafile.txt\n",
        "\n",
        "biodata = \"/resources/data/biodatafile.txt\"\n",
        "biodatafile = open(biodata, \"r\")"
      ],
      "metadata": {
        "id": "aI5kbrnzL_Z6"
      },
      "execution_count": null,
      "outputs": []
    },
    {
      "cell_type": "code",
      "source": [
        "# Print the path of file\n",
        "\n",
        "biodatafile.name"
      ],
      "metadata": {
        "colab": {
          "base_uri": "https://localhost:8080/",
          "height": 36
        },
        "id": "KrMb9DN3M7yx",
        "outputId": "1a2aedfe-6850-48ec-9de8-a8e21f78826c"
      },
      "execution_count": null,
      "outputs": [
        {
          "output_type": "execute_result",
          "data": {
            "text/plain": [
              "'/resources/data/biodatafile.txt'"
            ],
            "application/vnd.google.colaboratory.intrinsic+json": {
              "type": "string"
            }
          },
          "metadata": {},
          "execution_count": 17
        }
      ]
    },
    {
      "cell_type": "code",
      "source": [
        "# Print the mode of file, either 'r' or 'w'\n",
        "\n",
        "biodatafile.mode"
      ],
      "metadata": {
        "colab": {
          "base_uri": "https://localhost:8080/",
          "height": 36
        },
        "id": "oo6zbvSpNRio",
        "outputId": "37b986fd-9b0c-4026-9cc2-18b9c6527d1c"
      },
      "execution_count": null,
      "outputs": [
        {
          "output_type": "execute_result",
          "data": {
            "text/plain": [
              "'r'"
            ],
            "application/vnd.google.colaboratory.intrinsic+json": {
              "type": "string"
            }
          },
          "metadata": {},
          "execution_count": 18
        }
      ]
    },
    {
      "cell_type": "code",
      "source": [
        "# Read the file\n",
        "\n",
        "FileContent = biodatafile.read()\n",
        "FileContent"
      ],
      "metadata": {
        "colab": {
          "base_uri": "https://localhost:8080/",
          "height": 36
        },
        "id": "M1urqv__NX42",
        "outputId": "b0926dfa-000e-4932-8fff-8356d047a039"
      },
      "execution_count": null,
      "outputs": [
        {
          "output_type": "execute_result",
          "data": {
            "text/plain": [
              "'This is line 1 \\nThis is line 2\\nThis is line 3'"
            ],
            "application/vnd.google.colaboratory.intrinsic+json": {
              "type": "string"
            }
          },
          "metadata": {},
          "execution_count": 19
        }
      ]
    },
    {
      "cell_type": "code",
      "source": [
        "# Print the file with '\\n' as a new line\n",
        "\n",
        "print(FileContent)"
      ],
      "metadata": {
        "colab": {
          "base_uri": "https://localhost:8080/"
        },
        "id": "YycwjL8_NsIO",
        "outputId": "2e71904d-2098-47ac-d8e8-57b426293357"
      },
      "execution_count": null,
      "outputs": [
        {
          "output_type": "stream",
          "name": "stdout",
          "text": [
            "This is line 1 \n",
            "This is line 2\n",
            "This is line 3\n"
          ]
        }
      ]
    },
    {
      "cell_type": "code",
      "source": [
        "!mkdir -p /resources/data"
      ],
      "metadata": {
        "id": "MJX47OEkQO-H"
      },
      "execution_count": 4,
      "outputs": []
    },
    {
      "cell_type": "code",
      "source": [
        "# Write line to file\n",
        "\n",
        "with open('/resources/data/biodatafile2.txt', 'w') as writefile:\n",
        "    writefile.write(\"Nama           : Luluatina Zakiyatal Fikri\\n\")\n",
        "    writefile.write(\"Program Studi  : Teknologi Informasi\\n\")\n",
        "    writefile.write(\"NPM            : 2420506034\\n\")\n",
        "    writefile.write(\"Alamat         : Balekerto, Kaliangkrik, Magelang\\n\")\n",
        "    writefile.write(\"Hobi           : Bernyanyi, Mendengarkan Musik, dan Bermain Musik\\n\")\n",
        "    writefile.write(\"Email          : luluatina770@gmail.com\\n\")\n"
      ],
      "metadata": {
        "id": "p36ZEhsgOpu9"
      },
      "execution_count": 10,
      "outputs": []
    },
    {
      "cell_type": "code",
      "source": [
        "# Read file\n",
        "\n",
        "with open('/resources/data/biodatafile2.txt', 'r') as testwritefile:\n",
        "    print(testwritefile.read())"
      ],
      "metadata": {
        "colab": {
          "base_uri": "https://localhost:8080/"
        },
        "id": "uK4bRR3MP5xY",
        "outputId": "7b16553f-c606-49d5-938c-f36964cad364"
      },
      "execution_count": 11,
      "outputs": [
        {
          "output_type": "stream",
          "name": "stdout",
          "text": [
            "Nama           : Luluatina Zakiyatal Fikri\n",
            "Program Studi  : Teknologi Informasi\n",
            "NPM            : 2420506034\n",
            "Alamat         : Balekerto, Kaliangkrik, Magelang\n",
            "Hobi           : Bernyanyi, Mendengarkan Musik, dan Bermain Musik\n",
            "Email          : luluatina770@gmail.com\n",
            "\n"
          ]
        }
      ]
    },
    {
      "cell_type": "code",
      "source": [
        "!mkdir -p /resources/data"
      ],
      "metadata": {
        "id": "ZBj8qYsFSDdT"
      },
      "execution_count": null,
      "outputs": []
    },
    {
      "cell_type": "code",
      "source": [
        "# Menampilkan pesan selamat datang\n",
        "print(\"Selamat datang di Toko Maju Jaya\")\n",
        "print(\"Senin, 4 September 2023       13.05\")\n",
        "print(\" \")\n",
        "\n",
        "# Menampilkan daftar belanja\n",
        "print(\"DAFTAR BELANJA:\")\n",
        "\n",
        "# Mendefinisikan item dan harga\n",
        "item1 = \"Sabun\"\n",
        "item2 = \"Shampo\"\n",
        "item3 = \"Mie instant\"\n",
        "item4 = \"Detergen\"\n",
        "harga1 = 10000\n",
        "harga2 = 15000\n",
        "harga3 = 5000\n",
        "harga4 = 17500\n",
        "\n",
        "# Menghitung total harga\n",
        "total = harga1 + harga2 + harga3 + harga4\n",
        "\n",
        "# Menampilkan daftar belanja dengan harga\n",
        "print(f\"{item1}        = Rp {harga1}\")\n",
        "print(f\"{item2}        = Rp {harga2}\")\n",
        "print(f\"{item3}        = Rp {harga3}\")\n",
        "print(f\"{item4}        = Rp {harga4}\")\n",
        "\n",
        "print(\" \")\n",
        "print(f\"Total = Rp {total}\")\n",
        "\n",
        "# Menyimpan kuitansi ke dalam file\n",
        "with open('Kuitansi.txt', 'w') as file:\n",
        "    file.write(\"Selamat Datang di Toko Maju Jaya\\n\")\n",
        "    file.write(\"\\n\")\n",
        "    file.write(\"Kuitansi - 4 September 2023\\n\")\n",
        "    file.write(\"\\n\")\n",
        "    file.write(f\"{item1} = Rp {harga1}\\n\")\n",
        "    file.write(f\"{item2} = Rp {harga2}\\n\")\n",
        "    file.write(f\"{item3} = Rp {harga3}\\n\")\n",
        "    file.write(f\"{item4} = Rp {harga4}\\n\")\n",
        "    file.write(\"\\n\")\n",
        "    file.write(f\"Total Belanja = Rp {total}\\n\")\n"
      ],
      "metadata": {
        "id": "w32yer7zY6Y-",
        "outputId": "5f3bf3aa-d3db-4d5d-d514-bc68b221215d",
        "colab": {
          "base_uri": "https://localhost:8080/"
        }
      },
      "execution_count": null,
      "outputs": [
        {
          "output_type": "stream",
          "name": "stdout",
          "text": [
            "Selamat datang di Toko Maju Jaya\n",
            "Senin, 4 September 2023       13.05\n",
            " \n",
            "DAFTAR BELANJA:\n",
            "Sabun        = Rp 10000\n",
            "Shampo        = Rp 15000\n",
            "Mie instant        = Rp 5000\n",
            "Detergen        = Rp 17500\n",
            " \n",
            "Total = Rp 47500\n"
          ]
        }
      ]
    }
  ]
}